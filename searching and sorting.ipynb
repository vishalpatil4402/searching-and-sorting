{
 "cells": [
  {
   "cell_type": "code",
   "execution_count": 2,
   "id": "b45cc29d",
   "metadata": {},
   "outputs": [
    {
     "name": "stdout",
     "output_type": "stream",
     "text": [
      "2 3 4 10 40\n",
      "10\n",
      "Element is present at index 3\n"
     ]
    }
   ],
   "source": [
    "# 1. Implement Binary Search\n",
    "\n",
    "def binarySearch(arr, l, r, x):\n",
    "    if r >= l:\n",
    "        mid = l + (r - l) // 2\n",
    "        if arr[mid] == x:\n",
    "            return mid\n",
    "        elif arr[mid] > x:\n",
    "            return binarySearch(arr, l, mid-1, x)\n",
    "        else:\n",
    "            return binarySearch(arr, mid + 1, r, x)\n",
    "    else:\n",
    "        return -1\n",
    "\n",
    "arr = list(map(int,input().split()))\n",
    "x = int(input())\n",
    " \n",
    "result = binarySearch(arr, 0, len(arr)-1, x)\n",
    " \n",
    "if result != -1:\n",
    "    print(\"Element is present at index {}\".format(result))\n",
    "else:\n",
    "    print(\"Element is not present in array\")"
   ]
  },
  {
   "cell_type": "code",
   "execution_count": 6,
   "id": "c506fb2b",
   "metadata": {},
   "outputs": [
    {
     "name": "stdout",
     "output_type": "stream",
     "text": [
      "12 11 13 5 6 7\n",
      "Given array is\n",
      "12 11 13 5 6 7 \n",
      "Sorted array is: \n",
      "5 6 7 11 12 13 \n"
     ]
    }
   ],
   "source": [
    "# 2. Implement Merge Sort\n",
    "\n",
    "def mergeSort(arr):\n",
    "    if len(arr) > 1:\n",
    "        mid = len(arr)//2\n",
    "        L = arr[:mid]\n",
    "        R = arr[mid:]\n",
    "        mergeSort(L)\n",
    "        mergeSort(R)\n",
    "        i = j = k = 0\n",
    "        \n",
    "        while i < len(L) and j < len(R):\n",
    "            if L[i] < R[j]:\n",
    "                arr[k] = L[i]\n",
    "                i += 1\n",
    "            else:\n",
    "                arr[k] = R[j]\n",
    "                j += 1\n",
    "            k += 1\n",
    "        while i < len(L):\n",
    "            arr[k] = L[i]\n",
    "            i += 1\n",
    "            k += 1\n",
    "  \n",
    "        while j < len(R):\n",
    "            arr[k] = R[j]\n",
    "            j += 1\n",
    "            k += 1\n",
    "    \n",
    "def printList(arr):\n",
    "    for i in range(len(arr)):\n",
    "        print(arr[i], end=\" \")\n",
    "    print()\n",
    "    \n",
    "arr = list(map(int,input().split()))\n",
    "print(\"Given array is\", end=\"\\n\")\n",
    "printList(arr)\n",
    "mergeSort(arr)\n",
    "print(\"Sorted array is: \", end=\"\\n\")\n",
    "printList(arr)"
   ]
  },
  {
   "cell_type": "code",
   "execution_count": 7,
   "id": "447f68bd",
   "metadata": {},
   "outputs": [
    {
     "name": "stdout",
     "output_type": "stream",
     "text": [
      "10 7 8 9 1 5\n",
      "Sorted array: [1, 5, 7, 8, 9, 10]\n"
     ]
    }
   ],
   "source": [
    "# 3. Implement Quick Sort\n",
    "\n",
    "def partition(start, end, array):\n",
    "    pivot_index = start\n",
    "    pivot = array[pivot_index]\n",
    "    while start < end:\n",
    "        while start < len(array) and array[start] <= pivot:\n",
    "            start += 1\n",
    "        while array[end] > pivot:\n",
    "            end -= 1\n",
    "        if(start < end):\n",
    "            array[start], array[end] = array[end], array[start]\n",
    "    array[end], array[pivot_index] = array[pivot_index], array[end]\n",
    "    return end\n",
    "     \n",
    "def quick_sort(start, end, array):\n",
    "    if (start < end):\n",
    "        p = partition(start, end, array)\n",
    "        quick_sort(start, p - 1, array)\n",
    "        quick_sort(p + 1, end, array)\n",
    "        \n",
    "array = list(map(int,input().split()))\n",
    "quick_sort(0, len(array) - 1, array)\n",
    " \n",
    "print(f'Sorted array: {array}')"
   ]
  },
  {
   "cell_type": "code",
   "execution_count": 9,
   "id": "aa551491",
   "metadata": {},
   "outputs": [
    {
     "name": "stdout",
     "output_type": "stream",
     "text": [
      "12 11 13 5 6\n",
      "Sorted array: [5, 6, 11, 12, 13]\n"
     ]
    }
   ],
   "source": [
    "# 4. Implement insertion Sort\n",
    "\n",
    "def insertionSort(arr):\n",
    "    for i in range(1, len(arr)):\n",
    "        key = arr[i]\n",
    "        j = i-1\n",
    "        while j >= 0 and key < arr[j] :\n",
    "                arr[j + 1] = arr[j]\n",
    "                j -= 1\n",
    "        arr[j + 1] = key\n",
    "        \n",
    "arr = list(map(int,input().split())) \n",
    "insertionSort(arr)\n",
    "print(f'Sorted array: {arr}')"
   ]
  },
  {
   "cell_type": "code",
   "execution_count": 4,
   "id": "97b77a49",
   "metadata": {},
   "outputs": [
    {
     "name": "stdout",
     "output_type": "stream",
     "text": [
      "mango banana kiwi apple\n",
      "['apple', 'banana', 'kiwi', 'mango']\n"
     ]
    }
   ],
   "source": [
    "# 5. Write a program to sort list of strings (similar to that of dictionary)\n",
    "\n",
    "def bubbleSort(lis):\n",
    "    length = len(lis)\n",
    "    for i in range(length):\n",
    "        for j in range(length - i):\n",
    "            a = lis[j]\n",
    "            if a != lis[-1]:\n",
    "                b = lis[j + 1]\n",
    "                if a > b:\n",
    "                    lis[j] = b\n",
    "                    lis[j + 1] = a\n",
    "    return lis\n",
    "\n",
    "lis = list(map(str,input().split()))\n",
    "print(bubbleSort(lis))"
   ]
  },
  {
   "cell_type": "code",
   "execution_count": null,
   "id": "3292d90e",
   "metadata": {},
   "outputs": [],
   "source": []
  }
 ],
 "metadata": {
  "kernelspec": {
   "display_name": "Python 3 (ipykernel)",
   "language": "python",
   "name": "python3"
  },
  "language_info": {
   "codemirror_mode": {
    "name": "ipython",
    "version": 3
   },
   "file_extension": ".py",
   "mimetype": "text/x-python",
   "name": "python",
   "nbconvert_exporter": "python",
   "pygments_lexer": "ipython3",
   "version": "3.10.0"
  }
 },
 "nbformat": 4,
 "nbformat_minor": 5
}
